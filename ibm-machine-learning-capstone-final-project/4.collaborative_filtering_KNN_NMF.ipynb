{
 "cells": [
  {
   "cell_type": "code",
   "execution_count": 12,
   "id": "a122eaa2-524a-4d90-963d-c6401c50e74d",
   "metadata": {},
   "outputs": [],
   "source": [
    "import seaborn as sns\n",
    "import pandas as pd\n",
    "import numpy as np\n",
    "import matplotlib.pyplot as plt\n",
    "\n",
    "from surprise import KNNBasic, NMF\n",
    "from surprise import Dataset, Reader\n",
    "from surprise.model_selection import train_test_split\n",
    "from surprise import accuracy"
   ]
  },
  {
   "cell_type": "markdown",
   "id": "af17779e-99da-468c-809a-26c19f15696d",
   "metadata": {},
   "source": [
    "### preparing rating data"
   ]
  },
  {
   "cell_type": "code",
   "execution_count": 3,
   "id": "73eff5f0-806a-4336-99ec-8715e29dfd5c",
   "metadata": {},
   "outputs": [
    {
     "name": "stdout",
     "output_type": "stream",
     "text": [
      "<class 'pandas.core.frame.DataFrame'>\n",
      "RangeIndex: 1741989 entries, 0 to 1741988\n",
      "Data columns (total 3 columns):\n",
      " #   Column  Dtype  \n",
      "---  ------  -----  \n",
      " 0   user    int64  \n",
      " 1   item    int64  \n",
      " 2   rating  float64\n",
      "dtypes: float64(1), int64(2)\n",
      "memory usage: 39.9 MB\n"
     ]
    }
   ],
   "source": [
    "rating_df = pd.read_csv('data/rating_shortened.csv')\n",
    "rating_df = rating_df[rating_df.rating!=-1]\n",
    "rating_df = rating_df.groupby(by=['user_id','anime_id']).mean().reset_index()\n",
    "rating_df.columns = ['user','item','rating']\n",
    "rating_df.info()"
   ]
  },
  {
   "cell_type": "code",
   "execution_count": 4,
   "id": "f985d146-0795-4f07-a9b9-928a715a6985",
   "metadata": {},
   "outputs": [],
   "source": [
    "rating_df.to_csv(\"data/rating_collab_filt.csv\", index=False)"
   ]
  },
  {
   "cell_type": "markdown",
   "id": "4de74f1f-8462-42d0-9fa6-62cb1ddea2a2",
   "metadata": {},
   "source": [
    "### loading rating data"
   ]
  },
  {
   "cell_type": "code",
   "execution_count": 5,
   "id": "6ccbd6fe-0e2f-4681-80c5-ac58ae6e5dc3",
   "metadata": {},
   "outputs": [],
   "source": [
    "reader = Reader(\n",
    "    line_format='user item rating', sep=',', skip_lines=1, rating_scale=(2, 3))\n",
    "\n",
    "course_dataset = Dataset.load_from_file(\"data/rating_collab_filt.csv\", reader=reader)"
   ]
  },
  {
   "cell_type": "code",
   "execution_count": 6,
   "id": "75e2af28-f038-4067-9cf6-4dac5878593d",
   "metadata": {},
   "outputs": [],
   "source": [
    "trainset, testset = train_test_split(course_dataset, test_size=.3)"
   ]
  },
  {
   "cell_type": "code",
   "execution_count": 7,
   "id": "e9d1a0a8-02d6-4a37-99aa-8ec22f06b656",
   "metadata": {},
   "outputs": [
    {
     "name": "stdout",
     "output_type": "stream",
     "text": [
      "Total 65346 users and 858 items in the trainingset\n"
     ]
    }
   ],
   "source": [
    "print(f\"Total {trainset.n_users} users and {trainset.n_items} items in the trainingset\")"
   ]
  },
  {
   "cell_type": "markdown",
   "id": "fbd645c9-3d26-4182-9570-2f0f171b9252",
   "metadata": {},
   "source": [
    "### KNN based"
   ]
  },
  {
   "cell_type": "code",
   "execution_count": 10,
   "id": "d1fcd819-17df-41af-81ee-c197124fab19",
   "metadata": {},
   "outputs": [
    {
     "name": "stdout",
     "output_type": "stream",
     "text": [
      "Computing the cosine similarity matrix...\n",
      "Done computing similarity matrix.\n",
      "------------------------------\n",
      "Name: cosine\n",
      "RMSE: 5.3645\n",
      "5.364494522958875\n",
      "------------------------------\n",
      "Computing the msd similarity matrix...\n",
      "Done computing similarity matrix.\n",
      "------------------------------\n",
      "Name: MSD\n",
      "RMSE: 5.3645\n",
      "5.364489522775506\n",
      "------------------------------\n",
      "Estimating biases using als...\n",
      "Computing the pearson_baseline similarity matrix...\n",
      "Done computing similarity matrix.\n",
      "------------------------------\n",
      "Name: pearson_baseline\n",
      "RMSE: 5.3645\n",
      "5.364502104227845\n",
      "------------------------------\n"
     ]
    }
   ],
   "source": [
    "names=['cosine', 'MSD', 'pearson_baseline']\n",
    "for name in names:\n",
    "    model=KNNBasic(sim_options={'user_based': False, 'name':name})\n",
    "    model.fit(trainset)\n",
    "    preds=model.test(testset)\n",
    "    print('-'*30)\n",
    "    print('Name:', name)\n",
    "    print(accuracy.rmse(preds))\n",
    "    print('-'*30)"
   ]
  },
  {
   "cell_type": "code",
   "execution_count": 11,
   "id": "b14356db-7ab7-4ed7-8b41-e5b20d43cfa3",
   "metadata": {},
   "outputs": [
    {
     "name": "stdout",
     "output_type": "stream",
     "text": [
      "Computing the msd similarity matrix...\n",
      "Done computing similarity matrix.\n",
      "------------------------------\n",
      "Name: default\n",
      "RMSE: 5.3645\n",
      "5.364489522775506\n",
      "------------------------------\n"
     ]
    }
   ],
   "source": [
    "model=KNNBasic(sim_options={'user_based': False})\n",
    "model.fit(trainset)\n",
    "preds=model.test(testset)\n",
    "print('-'*30)\n",
    "print('Name:', 'default')\n",
    "print(accuracy.rmse(preds))\n",
    "print('-'*30)"
   ]
  },
  {
   "cell_type": "markdown",
   "id": "f3d9a7e7-264b-4cf4-8fee-f2e7ad49e4c0",
   "metadata": {},
   "source": [
    "### NMF"
   ]
  },
  {
   "cell_type": "code",
   "execution_count": 15,
   "id": "fed64586-de05-4d8a-81b7-8909b182971e",
   "metadata": {},
   "outputs": [
    {
     "name": "stdout",
     "output_type": "stream",
     "text": [
      "Processing epoch 0\n",
      "Processing epoch 1\n",
      "Processing epoch 2\n",
      "Processing epoch 3\n",
      "Processing epoch 4\n",
      "Processing epoch 5\n",
      "Processing epoch 6\n",
      "Processing epoch 7\n",
      "Processing epoch 8\n",
      "Processing epoch 9\n",
      "Processing epoch 10\n",
      "Processing epoch 11\n",
      "Processing epoch 12\n",
      "Processing epoch 13\n",
      "Processing epoch 14\n",
      "Processing epoch 15\n",
      "Processing epoch 16\n",
      "Processing epoch 17\n",
      "Processing epoch 18\n",
      "Processing epoch 19\n",
      "Processing epoch 20\n",
      "Processing epoch 21\n",
      "Processing epoch 22\n",
      "Processing epoch 23\n",
      "Processing epoch 24\n",
      "Processing epoch 25\n",
      "Processing epoch 26\n",
      "Processing epoch 27\n",
      "Processing epoch 28\n",
      "Processing epoch 29\n",
      "Processing epoch 30\n",
      "Processing epoch 31\n",
      "Processing epoch 32\n",
      "Processing epoch 33\n",
      "Processing epoch 34\n",
      "Processing epoch 35\n",
      "Processing epoch 36\n",
      "Processing epoch 37\n",
      "Processing epoch 38\n",
      "Processing epoch 39\n",
      "Processing epoch 40\n",
      "Processing epoch 41\n",
      "Processing epoch 42\n",
      "Processing epoch 43\n",
      "Processing epoch 44\n",
      "Processing epoch 45\n",
      "Processing epoch 46\n",
      "Processing epoch 47\n",
      "Processing epoch 48\n",
      "Processing epoch 49\n",
      "------------------------------\n",
      "NMF with n_factors = 30\n",
      "RMSE: 5.3645\n",
      "5.3645013845195955\n",
      "------------------------------\n"
     ]
    }
   ],
   "source": [
    "model=NMF(verbose=True, random_state=123, n_factors=30)\n",
    "model.fit(trainset)\n",
    "preds=model.test(testset)\n",
    "print('-'*30)\n",
    "print('NMF with n_factors =', 30)\n",
    "print(accuracy.rmse(preds))\n",
    "print('-'*30)"
   ]
  },
  {
   "cell_type": "code",
   "execution_count": 16,
   "id": "70527abb-aed6-4ca0-a20f-6f64183c5b35",
   "metadata": {},
   "outputs": [
    {
     "name": "stdout",
     "output_type": "stream",
     "text": [
      "Processing epoch 0\n",
      "Processing epoch 1\n",
      "Processing epoch 2\n",
      "Processing epoch 3\n",
      "Processing epoch 4\n",
      "Processing epoch 5\n",
      "Processing epoch 6\n",
      "Processing epoch 7\n",
      "Processing epoch 8\n",
      "Processing epoch 9\n",
      "Processing epoch 10\n",
      "Processing epoch 11\n",
      "Processing epoch 12\n",
      "Processing epoch 13\n",
      "Processing epoch 14\n",
      "Processing epoch 15\n",
      "Processing epoch 16\n",
      "Processing epoch 17\n",
      "Processing epoch 18\n",
      "Processing epoch 19\n",
      "Processing epoch 20\n",
      "Processing epoch 21\n",
      "Processing epoch 22\n",
      "Processing epoch 23\n",
      "Processing epoch 24\n",
      "Processing epoch 25\n",
      "Processing epoch 26\n",
      "Processing epoch 27\n",
      "Processing epoch 28\n",
      "Processing epoch 29\n",
      "Processing epoch 30\n",
      "Processing epoch 31\n",
      "Processing epoch 32\n",
      "Processing epoch 33\n",
      "Processing epoch 34\n",
      "Processing epoch 35\n",
      "Processing epoch 36\n",
      "Processing epoch 37\n",
      "Processing epoch 38\n",
      "Processing epoch 39\n",
      "Processing epoch 40\n",
      "Processing epoch 41\n",
      "Processing epoch 42\n",
      "Processing epoch 43\n",
      "Processing epoch 44\n",
      "Processing epoch 45\n",
      "Processing epoch 46\n",
      "Processing epoch 47\n",
      "Processing epoch 48\n",
      "Processing epoch 49\n",
      "------------------------------\n",
      "NMF with n_factors = 50\n",
      "RMSE: 5.3645\n",
      "5.364498800084454\n",
      "------------------------------\n"
     ]
    }
   ],
   "source": [
    "model=NMF(verbose=True, random_state=123, n_factors=50)\n",
    "model.fit(trainset)\n",
    "preds=model.test(testset)\n",
    "print('-'*30)\n",
    "print('NMF with n_factors =', 50)\n",
    "print(accuracy.rmse(preds))\n",
    "print('-'*30)"
   ]
  },
  {
   "cell_type": "code",
   "execution_count": 17,
   "id": "a06c91f6-253a-418c-85ac-e4877933b7d2",
   "metadata": {},
   "outputs": [
    {
     "name": "stdout",
     "output_type": "stream",
     "text": [
      "Processing epoch 0\n",
      "Processing epoch 1\n",
      "Processing epoch 2\n",
      "Processing epoch 3\n",
      "Processing epoch 4\n",
      "Processing epoch 5\n",
      "Processing epoch 6\n",
      "Processing epoch 7\n",
      "Processing epoch 8\n",
      "Processing epoch 9\n",
      "Processing epoch 10\n",
      "Processing epoch 11\n",
      "Processing epoch 12\n",
      "Processing epoch 13\n",
      "Processing epoch 14\n",
      "Processing epoch 15\n",
      "Processing epoch 16\n",
      "Processing epoch 17\n",
      "Processing epoch 18\n",
      "Processing epoch 19\n",
      "Processing epoch 20\n",
      "Processing epoch 21\n",
      "Processing epoch 22\n",
      "Processing epoch 23\n",
      "Processing epoch 24\n",
      "Processing epoch 25\n",
      "Processing epoch 26\n",
      "Processing epoch 27\n",
      "Processing epoch 28\n",
      "Processing epoch 29\n",
      "Processing epoch 30\n",
      "Processing epoch 31\n",
      "Processing epoch 32\n",
      "Processing epoch 33\n",
      "Processing epoch 34\n",
      "Processing epoch 35\n",
      "Processing epoch 36\n",
      "Processing epoch 37\n",
      "Processing epoch 38\n",
      "Processing epoch 39\n",
      "Processing epoch 40\n",
      "Processing epoch 41\n",
      "Processing epoch 42\n",
      "Processing epoch 43\n",
      "Processing epoch 44\n",
      "Processing epoch 45\n",
      "Processing epoch 46\n",
      "Processing epoch 47\n",
      "Processing epoch 48\n",
      "Processing epoch 49\n",
      "------------------------------\n",
      "NMF with n_factors = 100\n",
      "RMSE: 5.3645\n",
      "5.364495479404577\n",
      "------------------------------\n"
     ]
    }
   ],
   "source": [
    "model=NMF(verbose=True, random_state=123, n_factors=100)\n",
    "model.fit(trainset)\n",
    "preds=model.test(testset)\n",
    "print('-'*30)\n",
    "print('NMF with n_factors =', 100)\n",
    "print(accuracy.rmse(preds))\n",
    "print('-'*30)"
   ]
  }
 ],
 "metadata": {
  "kernelspec": {
   "display_name": "Python 3 (ipykernel)",
   "language": "python",
   "name": "python3"
  },
  "language_info": {
   "codemirror_mode": {
    "name": "ipython",
    "version": 3
   },
   "file_extension": ".py",
   "mimetype": "text/x-python",
   "name": "python",
   "nbconvert_exporter": "python",
   "pygments_lexer": "ipython3",
   "version": "3.11.2"
  }
 },
 "nbformat": 4,
 "nbformat_minor": 5
}
